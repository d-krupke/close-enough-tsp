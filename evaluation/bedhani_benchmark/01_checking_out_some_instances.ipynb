{
 "cells": [
  {
   "cell_type": "markdown",
   "id": "acd506fb-05b9-4227-98a1-8634f25b5c91",
   "metadata": {},
   "source": [
    "# Checking out some instances to check if everything works fine"
   ]
  },
  {
   "cell_type": "code",
   "execution_count": 1,
   "id": "19314eb4-36da-4683-a815-16c3842718e9",
   "metadata": {},
   "outputs": [],
   "source": [
    "# import the stuff\n",
    "from cetsp_bnb2 import Circle, Instance, compute_tour_by_2opt, branch_and_bound, Point, plot_solution, compute_tour_from_sequence"
   ]
  },
  {
   "cell_type": "code",
   "execution_count": 2,
   "id": "fca5e8e1-da24-4c8b-a973-cfbd2298c5e4",
   "metadata": {},
   "outputs": [],
   "source": [
    "# Load instances\n",
    "import aemeasure\n",
    "db_ = aemeasure.Database(\"instance_db\")\n",
    "data = db_.load()\n",
    "instances = {instance[\"instance\"]: instance  for instance in data}"
   ]
  },
  {
   "cell_type": "code",
   "execution_count": 3,
   "id": "59be546f-8a72-45ff-a067-d447a5e6ec81",
   "metadata": {},
   "outputs": [
    {
     "data": {
      "text/plain": [
       "['bedhani/CETSP-18-12',\n",
       " 'bedhani/CETSP-18-15',\n",
       " 'bedhani/CETSP-18-23',\n",
       " 'bedhani/CETSP-18-24',\n",
       " 'bedhani/CETSP-10-10',\n",
       " 'bedhani/CETSP-20-27',\n",
       " 'bedhani/CETSP-14-20',\n",
       " 'bedhani/CETSP-20-18',\n",
       " 'bedhani/CETSP-14-27',\n",
       " 'bedhani/CETSP-20-20',\n",
       " 'bedhani/CETSP-10-17',\n",
       " 'bedhani/CETSP-14-18',\n",
       " 'bedhani/CETSP-10-28',\n",
       " 'bedhani/CETSP-14-11',\n",
       " 'bedhani/CETSP-20-03',\n",
       " 'bedhani/CETSP-20-16',\n",
       " 'bedhani/CETSP-10-21',\n",
       " 'bedhani/CETSP-20-29',\n",
       " 'bedhani/CETSP-10-26',\n",
       " 'bedhani/CETSP-20-04',\n",
       " 'bedhani/CETSP-20-11',\n",
       " 'bedhani/CETSP-14-16',\n",
       " 'bedhani/CETSP-10-19',\n",
       " 'bedhani/CETSP-14-29',\n",
       " 'bedhani/CETSP-18-25',\n",
       " 'bedhani/CETSP-18-22',\n",
       " 'bedhani/CETSP-18-14',\n",
       " 'bedhani/CETSP-18-13',\n",
       " 'bedhani/CETSP-30-10',\n",
       " 'bedhani/CETSP-14-17',\n",
       " 'bedhani/CETSP-20-10',\n",
       " 'bedhani/CETSP-20-05',\n",
       " 'bedhani/CETSP-10-27',\n",
       " 'bedhani/CETSP-14-28',\n",
       " 'bedhani/CETSP-10-18',\n",
       " 'bedhani/CETSP-10-20',\n",
       " 'bedhani/CETSP-20-17',\n",
       " 'bedhani/CETSP-20-02',\n",
       " 'bedhani/CETSP-14-10',\n",
       " 'bedhani/CETSP-20-28',\n",
       " 'bedhani/CETSP-10-16',\n",
       " 'bedhani/CETSP-20-21',\n",
       " 'bedhani/CETSP-14-26',\n",
       " 'bedhani/CETSP-10-29',\n",
       " 'bedhani/CETSP-14-19',\n",
       " 'bedhani/CETSP-14-21',\n",
       " 'bedhani/CETSP-20-26',\n",
       " 'bedhani/CETSP-10-11',\n",
       " 'bedhani/CETSP-20-19',\n",
       " 'bedhani/CETSP-06-10',\n",
       " 'bedhani/CETSP-06-17',\n",
       " 'bedhani/CETSP-06-28',\n",
       " 'bedhani/CETSP-06-21',\n",
       " 'bedhani/CETSP-06-26',\n",
       " 'bedhani/CETSP-06-19',\n",
       " 'bedhani/CETSP-30-05',\n",
       " 'bedhani/CETSP-30-02',\n",
       " 'bedhani/CETSP-06-27',\n",
       " 'bedhani/CETSP-06-18',\n",
       " 'bedhani/CETSP-06-20',\n",
       " 'bedhani/CETSP-06-16',\n",
       " 'bedhani/CETSP-06-29',\n",
       " 'bedhani/CETSP-06-11',\n",
       " 'bedhani/CETSP-25-10',\n",
       " 'bedhani/CETSP-30-03',\n",
       " 'bedhani/CETSP-30-04',\n",
       " 'bedhani/CETSP-16-13',\n",
       " 'bedhani/CETSP-12-23',\n",
       " 'bedhani/CETSP-12-24',\n",
       " 'bedhani/CETSP-16-14',\n",
       " 'bedhani/CETSP-12-12',\n",
       " 'bedhani/CETSP-16-22',\n",
       " 'bedhani/CETSP-16-25',\n",
       " 'bedhani/CETSP-12-15',\n",
       " 'bedhani/CETSP-25-06',\n",
       " 'bedhani/CETSP-25-01',\n",
       " 'bedhani/CETSP-25-08',\n",
       " 'bedhani/CETSP-12-14',\n",
       " 'bedhani/CETSP-16-24',\n",
       " 'bedhani/CETSP-16-23',\n",
       " 'bedhani/CETSP-12-13',\n",
       " 'bedhani/CETSP-16-15',\n",
       " 'bedhani/CETSP-12-25',\n",
       " 'bedhani/CETSP-12-22',\n",
       " 'bedhani/CETSP-16-12',\n",
       " 'bedhani/CETSP-25-09',\n",
       " 'bedhani/CETSP-25-07',\n",
       " 'bedhani/CETSP-10-09',\n",
       " 'bedhani/CETSP-08-11',\n",
       " 'bedhani/CETSP-12-04',\n",
       " 'bedhani/CETSP-08-29',\n",
       " 'bedhani/CETSP-12-03',\n",
       " 'bedhani/CETSP-08-16',\n",
       " 'bedhani/CETSP-18-04',\n",
       " 'bedhani/CETSP-08-20',\n",
       " 'bedhani/CETSP-10-07',\n",
       " 'bedhani/CETSP-08-03',\n",
       " 'bedhani/CETSP-08-18',\n",
       " 'bedhani/CETSP-18-03',\n",
       " 'bedhani/CETSP-08-04',\n",
       " 'bedhani/CETSP-10-00',\n",
       " 'bedhani/CETSP-08-27',\n",
       " 'bedhani/CETSP-16-02',\n",
       " 'bedhani/CETSP-06-05',\n",
       " 'bedhani/CETSP-16-05',\n",
       " 'bedhani/CETSP-14-08',\n",
       " 'bedhani/CETSP-06-02',\n",
       " 'bedhani/CETSP-14-01',\n",
       " 'bedhani/CETSP-14-06',\n",
       " 'bedhani/CETSP-08-19',\n",
       " 'bedhani/CETSP-18-02',\n",
       " 'bedhani/CETSP-10-01',\n",
       " 'bedhani/CETSP-08-26',\n",
       " 'bedhani/CETSP-08-05',\n",
       " 'bedhani/CETSP-18-05',\n",
       " 'bedhani/CETSP-08-02',\n",
       " 'bedhani/CETSP-08-21',\n",
       " 'bedhani/CETSP-10-06',\n",
       " 'bedhani/CETSP-08-28',\n",
       " 'bedhani/CETSP-12-02',\n",
       " 'bedhani/CETSP-08-17',\n",
       " 'bedhani/CETSP-10-08',\n",
       " 'bedhani/CETSP-08-10',\n",
       " 'bedhani/CETSP-12-05',\n",
       " 'bedhani/CETSP-14-07',\n",
       " 'bedhani/CETSP-14-00',\n",
       " 'bedhani/CETSP-16-04',\n",
       " 'bedhani/CETSP-06-03',\n",
       " 'bedhani/CETSP-14-09',\n",
       " 'bedhani/CETSP-16-03',\n",
       " 'bedhani/CETSP-06-04',\n",
       " 'bedhani/CETSP-20-23',\n",
       " 'bedhani/CETSP-14-24',\n",
       " 'bedhani/CETSP-10-14',\n",
       " 'bedhani/CETSP-20-09',\n",
       " 'bedhani/CETSP-10-13',\n",
       " 'bedhani/CETSP-14-23',\n",
       " 'bedhani/CETSP-20-24',\n",
       " 'bedhani/CETSP-10-25',\n",
       " 'bedhani/CETSP-14-15',\n",
       " 'bedhani/CETSP-20-07',\n",
       " 'bedhani/CETSP-20-12',\n",
       " 'bedhani/CETSP-20-00',\n",
       " 'bedhani/CETSP-20-15',\n",
       " 'bedhani/CETSP-14-12',\n",
       " 'bedhani/CETSP-10-22',\n",
       " 'bedhani/CETSP-18-16',\n",
       " 'bedhani/CETSP-18-29',\n",
       " 'bedhani/CETSP-18-11',\n",
       " 'bedhani/CETSP-18-27',\n",
       " 'bedhani/CETSP-18-18',\n",
       " 'bedhani/CETSP-18-20',\n",
       " 'bedhani/CETSP-10-23',\n",
       " 'bedhani/CETSP-14-13',\n",
       " 'bedhani/CETSP-20-14',\n",
       " 'bedhani/CETSP-20-01',\n",
       " 'bedhani/CETSP-20-13',\n",
       " 'bedhani/CETSP-20-06',\n",
       " 'bedhani/CETSP-14-14',\n",
       " 'bedhani/CETSP-10-24',\n",
       " 'bedhani/CETSP-20-25',\n",
       " 'bedhani/CETSP-14-22',\n",
       " 'bedhani/CETSP-10-12',\n",
       " 'bedhani/CETSP-10-15',\n",
       " 'bedhani/CETSP-14-25',\n",
       " 'bedhani/CETSP-20-22',\n",
       " 'bedhani/CETSP-20-08',\n",
       " 'bedhani/CETSP-18-21',\n",
       " 'bedhani/CETSP-18-26',\n",
       " 'bedhani/CETSP-18-19',\n",
       " 'bedhani/CETSP-18-10',\n",
       " 'bedhani/CETSP-18-17',\n",
       " 'bedhani/CETSP-18-28',\n",
       " 'bedhani/CETSP-30-01',\n",
       " 'bedhani/CETSP-30-06',\n",
       " 'bedhani/CETSP-30-08',\n",
       " 'bedhani/CETSP-06-14',\n",
       " 'bedhani/CETSP-06-13',\n",
       " 'bedhani/CETSP-06-25',\n",
       " 'bedhani/CETSP-06-22',\n",
       " 'bedhani/CETSP-30-09',\n",
       " 'bedhani/CETSP-30-07',\n",
       " 'bedhani/CETSP-06-23',\n",
       " 'bedhani/CETSP-06-24',\n",
       " 'bedhani/CETSP-06-12',\n",
       " 'bedhani/CETSP-06-15',\n",
       " 'bedhani/CETSP-25-02',\n",
       " 'bedhani/CETSP-25-05',\n",
       " 'bedhani/CETSP-12-18',\n",
       " 'bedhani/CETSP-16-28',\n",
       " 'bedhani/CETSP-12-27',\n",
       " 'bedhani/CETSP-16-17',\n",
       " 'bedhani/CETSP-16-10',\n",
       " 'bedhani/CETSP-12-20',\n",
       " 'bedhani/CETSP-16-19',\n",
       " 'bedhani/CETSP-12-29',\n",
       " 'bedhani/CETSP-16-26',\n",
       " 'bedhani/CETSP-12-16',\n",
       " 'bedhani/CETSP-12-11',\n",
       " 'bedhani/CETSP-16-21',\n",
       " 'bedhani/CETSP-25-04',\n",
       " 'bedhani/CETSP-25-03',\n",
       " 'bedhani/CETSP-16-20',\n",
       " 'bedhani/CETSP-12-10',\n",
       " 'bedhani/CETSP-12-28',\n",
       " 'bedhani/CETSP-16-18',\n",
       " 'bedhani/CETSP-12-17',\n",
       " 'bedhani/CETSP-16-27',\n",
       " 'bedhani/CETSP-12-21',\n",
       " 'bedhani/CETSP-16-11',\n",
       " 'bedhani/CETSP-16-29',\n",
       " 'bedhani/CETSP-12-19',\n",
       " 'bedhani/CETSP-16-16',\n",
       " 'bedhani/CETSP-12-26',\n",
       " 'bedhani/CETSP-16-06',\n",
       " 'bedhani/CETSP-06-01',\n",
       " 'bedhani/CETSP-16-01',\n",
       " 'bedhani/CETSP-06-06',\n",
       " 'bedhani/CETSP-14-05',\n",
       " 'bedhani/CETSP-16-08',\n",
       " 'bedhani/CETSP-14-02',\n",
       " 'bedhani/CETSP-06-08',\n",
       " 'bedhani/CETSP-08-09',\n",
       " 'bedhani/CETSP-12-00',\n",
       " 'bedhani/CETSP-08-15',\n",
       " 'bedhani/CETSP-08-12',\n",
       " 'bedhani/CETSP-12-07',\n",
       " 'bedhani/CETSP-18-09',\n",
       " 'bedhani/CETSP-18-00',\n",
       " 'bedhani/CETSP-08-07',\n",
       " 'bedhani/CETSP-10-03',\n",
       " 'bedhani/CETSP-08-24',\n",
       " 'bedhani/CETSP-12-09',\n",
       " 'bedhani/CETSP-18-07',\n",
       " 'bedhani/CETSP-08-23',\n",
       " 'bedhani/CETSP-10-04',\n",
       " 'bedhani/CETSP-08-00',\n",
       " 'bedhani/CETSP-06-09',\n",
       " 'bedhani/CETSP-14-03',\n",
       " 'bedhani/CETSP-14-04',\n",
       " 'bedhani/CETSP-16-09',\n",
       " 'bedhani/CETSP-16-00',\n",
       " 'bedhani/CETSP-06-07',\n",
       " 'bedhani/CETSP-16-07',\n",
       " 'bedhani/CETSP-06-00',\n",
       " 'bedhani/CETSP-18-06',\n",
       " 'bedhani/CETSP-12-08',\n",
       " 'bedhani/CETSP-08-01',\n",
       " 'bedhani/CETSP-08-22',\n",
       " 'bedhani/CETSP-10-05',\n",
       " 'bedhani/CETSP-18-01',\n",
       " 'bedhani/CETSP-10-02',\n",
       " 'bedhani/CETSP-08-25',\n",
       " 'bedhani/CETSP-08-06',\n",
       " 'bedhani/CETSP-08-13',\n",
       " 'bedhani/CETSP-18-08',\n",
       " 'bedhani/CETSP-12-06',\n",
       " 'bedhani/CETSP-08-08',\n",
       " 'bedhani/CETSP-12-01',\n",
       " 'bedhani/CETSP-08-14']"
      ]
     },
     "execution_count": 3,
     "metadata": {},
     "output_type": "execute_result"
    }
   ],
   "source": [
    "list(instances.keys())"
   ]
  },
  {
   "cell_type": "code",
   "execution_count": 4,
   "id": "b10a3855-ffc1-4253-9d8c-8d05417f51d7",
   "metadata": {},
   "outputs": [],
   "source": [
    "radius = 0.25\n",
    "instance_name = \"bedhani/CETSP-08-18\"\n",
    "instance = Instance([Circle(Point(float(d[\"x\"]), float(d[\"y\"])), radius) for d in instances[instance_name][\"circles\"]])"
   ]
  },
  {
   "cell_type": "code",
   "execution_count": 5,
   "id": "46babca4-cbab-406e-84ae-22de1805fbee",
   "metadata": {},
   "outputs": [
    {
     "data": {
      "image/png": "[encoded data removed]",
      "text/plain": [
       "<Figure size 500x500 with 1 Axes>"
      ]
     },
     "metadata": {},
     "output_type": "display_data"
    }
   ],
   "source": [
    "import matplotlib.pyplot as plt\n",
    "\n",
    "plt.figure(figsize=(5, 5))\n",
    "plot_solution(plt.gca(), instance, [])"
   ]
  },
  {
   "cell_type": "code",
   "execution_count": 6,
   "id": "3e7ec081-0254-4646-bb8c-728458cf991f",
   "metadata": {},
   "outputs": [
    {
     "name": "stdout",
     "output_type": "stream",
     "text": [
      "Set parameter Username\n",
      "Academic license - for non-commercial use only - expires 2023-11-13\n"
     ]
    }
   ],
   "source": [
    "# compute an initial solution via 2opt\n",
    "initial_solution = compute_tour_by_2opt(instance)"
   ]
  },
  {
   "cell_type": "code",
   "execution_count": 7,
   "id": "b530bfb4-7ce8-4db1-8bc1-accac5831794",
   "metadata": {},
   "outputs": [
    {
     "data": {
      "image/png": "[encoded data removed]",
      "text/plain": [
       "<Figure size 1500x1500 with 1 Axes>"
      ]
     },
     "metadata": {},
     "output_type": "display_data"
    }
   ],
   "source": [
    "import matplotlib.pyplot as plt\n",
    "\n",
    "plt.figure(figsize=(15, 15))\n",
    "plot_solution(plt.gca(), instance, initial_solution, highlight=[6])"
   ]
  },
  {
   "cell_type": "code",
   "execution_count": null,
   "id": "5d5d8c7e-5358-497c-b221-72229540b660",
   "metadata": {},
   "outputs": [],
   "source": []
  },
  {
   "cell_type": "code",
   "execution_count": 8,
   "id": "958d16ae-ca38-4fbc-9a09-131a184069c0",
   "metadata": {},
   "outputs": [
    {
     "name": "stdout",
     "output_type": "stream",
     "text": [
      "Using node simplification.\n",
      "Using ChFarthestCircle-Branching\n",
      "Using DfsBfs search\n",
      "Starting with root node of size 7\n",
      "i\tLB\t|\tUB\t|\tTime\n",
      "0\tinf\t|\t32.1258\t|\t0s\n",
      "---------------\n",
      "0\tinf\t|\t32.1258\n",
      "1 iterations with 0 nodes explored and 0 branches.\n"
     ]
    }
   ],
   "source": [
    "timelimit = 220\n",
    "node_values = []\n",
    "def count(event):\n",
    "    global node_values\n",
    "    node_values.append(event.current_node.get_relaxed_solution().length())\n",
    "    ub = event.get_upper_bound()\n",
    "    lb = event.get_lower_bound()\n",
    "    depth = event.current_node.depth()\n",
    "\n",
    "    if True or not event.current_node.get_relaxed_solution().is_simple():\n",
    "        plt.figure(figsize=(5, 5))\n",
    "        plt.title(f\"{event.current_node.get_relaxed_solution().length()} vs. {ub}\")\n",
    "        plot_solution(plt.gca(), instance, event.get_relaxed_solution(), highlight=event.current_node.get_fixed_sequence())\n",
    "        plt.show()\n",
    "        #event.current_node.prune()\n",
    "        \n",
    "opt_solution, lb = branch_and_bound(instance, count, initial_solution, timelimit)"
   ]
  },
  {
   "cell_type": "code",
   "execution_count": 9,
   "id": "9bdb399f-1a99-420e-ada9-630f8331239f",
   "metadata": {},
   "outputs": [
    {
     "data": {
      "image/png": "[encoded data removed]",
      "text/plain": [
       "<Figure size 500x500 with 1 Axes>"
      ]
     },
     "metadata": {},
     "output_type": "display_data"
    }
   ],
   "source": [
    "plt.figure(figsize=(5, 5))\n",
    "plot_solution(plt.gca(), instance, opt_solution)"
   ]
  },
  {
   "cell_type": "code",
   "execution_count": null,
   "id": "215b5d6f-2a9f-42d3-963d-aec58af04790",
   "metadata": {},
   "outputs": [],
   "source": []
  }
 ],
 "metadata": {
  "kernelspec": {
   "display_name": "Python 3 (ipykernel)",
   "language": "python",
   "name": "python3"
  },
  "language_info": {
   "codemirror_mode": {
    "name": "ipython",
    "version": 3
   },
   "file_extension": ".py",
   "mimetype": "text/x-python",
   "name": "python",
   "nbconvert_exporter": "python",
   "pygments_lexer": "ipython3",
   "version": "3.10.8"
  }
 },
 "nbformat": 4,
 "nbformat_minor": 5
}
