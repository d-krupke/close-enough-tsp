{
 "cells": [
  {
   "cell_type": "markdown",
   "id": "58f8f51b-43be-424f-af7c-bafe4c3f52d5",
   "metadata": {},
   "source": [
    "# Preprocessing instances\n",
    "\n",
    "This notebook is just for converting the instances into a nice database.\n",
    "\n",
    "**WARNING: Does not check if the instances are already contained. Potentially redundant data sets!**"
   ]
  },
  {
   "cell_type": "code",
   "execution_count": 30,
   "id": "f86d9481-c4f7-4810-8aca-567275afa00a",
   "metadata": {},
   "outputs": [],
   "source": [
    "import json\n",
    "import os"
   ]
  },
  {
   "cell_type": "code",
   "execution_count": 31,
   "id": "e15c044f-89c0-403e-b420-cff174358739",
   "metadata": {},
   "outputs": [],
   "source": [
    "import aemeasure\n",
    "db = aemeasure.Database(\"instance_db\")"
   ]
  },
  {
   "cell_type": "code",
   "execution_count": 32,
   "id": "04e70977-c785-4fe6-8c27-ed260b71a6fd",
   "metadata": {},
   "outputs": [],
   "source": [
    "instance_folder = \"srpg_octa0000092/\"\n",
    "for file_ in os.listdir(instance_folder):\n",
    "    path = os.path.join(instance_folder, file_)\n",
    "    if not path.endswith(\".json\"):\n",
    "        continue\n",
    "    with open(path, \"r\") as f:\n",
    "        data = json.load(f)\n",
    "        instance = {\n",
    "            \"instance\": path,\n",
    "            \"circles\": [{\"x\": witness[\"x\"], \"y\": witness[\"y\"], \"radius\": 1.0} for witness in data[\"witnesses\"]]\n",
    "        }\n",
    "        db.add(instance)\n",
    "db.flush()"
   ]
  },
  {
   "cell_type": "code",
   "execution_count": 33,
   "id": "07f72321-3b27-434e-8f73-930bea3d88cc",
   "metadata": {},
   "outputs": [],
   "source": [
    "db.compress()"
   ]
  },
  {
   "cell_type": "code",
   "execution_count": 34,
   "id": "5fa0f9a8-21ad-44ee-b0d4-c2be512d6965",
   "metadata": {},
   "outputs": [],
   "source": [
    "db_ = aemeasure.Database(\"instance_db\")"
   ]
  },
  {
   "cell_type": "code",
   "execution_count": 35,
   "id": "f5791064-13c3-4ea3-9324-fde15e47ef4f",
   "metadata": {},
   "outputs": [
    {
     "data": {
      "text/plain": [
       "['srpg_octa0000092/upper_bound_70.json',\n",
       " 'srpg_octa0000092/upper_bound_27.json',\n",
       " 'srpg_octa0000092/upper_bound_31.json',\n",
       " 'srpg_octa0000092/upper_bound_66.json',\n",
       " 'srpg_octa0000092/upper_bound_5.json',\n",
       " 'srpg_octa0000092/upper_bound_9.json',\n",
       " 'srpg_octa0000092/upper_bound_11.json',\n",
       " 'srpg_octa0000092/upper_bound_46.json',\n",
       " 'srpg_octa0000092/upper_bound_50.json',\n",
       " 'srpg_octa0000092/lower_bound_2.json',\n",
       " 'srpg_octa0000092/upper_bound_51.json',\n",
       " 'srpg_octa0000092/upper_bound_47.json',\n",
       " 'srpg_octa0000092/upper_bound_8.json',\n",
       " 'srpg_octa0000092/upper_bound_10.json',\n",
       " 'srpg_octa0000092/upper_bound_4.json',\n",
       " 'srpg_octa0000092/upper_bound_67.json',\n",
       " 'srpg_octa0000092/upper_bound_30.json',\n",
       " 'srpg_octa0000092/upper_bound_26.json',\n",
       " 'srpg_octa0000092/upper_bound_71.json',\n",
       " 'srpg_octa0000092/upper_bound_17.json',\n",
       " 'srpg_octa0000092/upper_bound_40.json',\n",
       " 'srpg_octa0000092/upper_bound_56.json',\n",
       " 'srpg_octa0000092/upper_bound_21.json',\n",
       " 'srpg_octa0000092/upper_bound_37.json',\n",
       " 'srpg_octa0000092/upper_bound_60.json',\n",
       " 'srpg_octa0000092/upper_bound_3.json',\n",
       " 'srpg_octa0000092/upper_bound_61.json',\n",
       " 'srpg_octa0000092/upper_bound_36.json',\n",
       " 'srpg_octa0000092/upper_bound_20.json',\n",
       " 'srpg_octa0000092/upper_bound_57.json',\n",
       " 'srpg_octa0000092/upper_bound_41.json',\n",
       " 'srpg_octa0000092/upper_bound_16.json',\n",
       " 'srpg_octa0000092/upper_bound_54.json',\n",
       " 'srpg_octa0000092/upper_bound_42.json',\n",
       " 'srpg_octa0000092/upper_bound_15.json',\n",
       " 'srpg_octa0000092/upper_bound_39.json',\n",
       " 'srpg_octa0000092/upper_bound_58.json',\n",
       " 'srpg_octa0000092/upper_bound_19.json',\n",
       " 'srpg_octa0000092/upper_bound_62.json',\n",
       " 'srpg_octa0000092/upper_bound_35.json',\n",
       " 'srpg_octa0000092/upper_bound_23.json',\n",
       " 'srpg_octa0000092/upper_bound_22.json',\n",
       " 'srpg_octa0000092/upper_bound_34.json',\n",
       " 'srpg_octa0000092/upper_bound_63.json',\n",
       " 'srpg_octa0000092/upper_bound_18.json',\n",
       " 'srpg_octa0000092/upper_bound_59.json',\n",
       " 'srpg_octa0000092/upper_bound_38.json',\n",
       " 'srpg_octa0000092/upper_bound_14.json',\n",
       " 'srpg_octa0000092/upper_bound_43.json',\n",
       " 'srpg_octa0000092/upper_bound_55.json',\n",
       " 'srpg_octa0000092/upper_bound_48.json',\n",
       " 'srpg_octa0000092/upper_bound_7.json',\n",
       " 'srpg_octa0000092/upper_bound_64.json',\n",
       " 'srpg_octa0000092/upper_bound_33.json',\n",
       " 'srpg_octa0000092/upper_bound_25.json',\n",
       " 'srpg_octa0000092/lower_bound_1.json',\n",
       " 'srpg_octa0000092/upper_bound_52.json',\n",
       " 'srpg_octa0000092/upper_bound_44.json',\n",
       " 'srpg_octa0000092/upper_bound_13.json',\n",
       " 'srpg_octa0000092/upper_bound_68.json',\n",
       " 'srpg_octa0000092/upper_bound_29.json',\n",
       " 'srpg_octa0000092/upper_bound_28.json',\n",
       " 'srpg_octa0000092/upper_bound_69.json',\n",
       " 'srpg_octa0000092/upper_bound_12.json',\n",
       " 'srpg_octa0000092/upper_bound_45.json',\n",
       " 'srpg_octa0000092/upper_bound_53.json',\n",
       " 'srpg_octa0000092/lower_bound_0.json',\n",
       " 'srpg_octa0000092/upper_bound_24.json',\n",
       " 'srpg_octa0000092/upper_bound_32.json',\n",
       " 'srpg_octa0000092/upper_bound_65.json',\n",
       " 'srpg_octa0000092/upper_bound_6.json',\n",
       " 'srpg_octa0000092/upper_bound_49.json']"
      ]
     },
     "execution_count": 35,
     "metadata": {},
     "output_type": "execute_result"
    }
   ],
   "source": [
    "# Check the instances in the database.\n",
    "data = db_.load()\n",
    "instances = {instance[\"instance\"]: instance  for instance in data}\n",
    "list(instances.keys())"
   ]
  },
  {
   "cell_type": "code",
   "execution_count": null,
   "id": "8dadb81c-ae08-49c1-9ebd-41c715745037",
   "metadata": {},
   "outputs": [],
   "source": []
  }
 ],
 "metadata": {
  "kernelspec": {
   "display_name": "Python 3 (ipykernel)",
   "language": "python",
   "name": "python3"
  },
  "language_info": {
   "codemirror_mode": {
    "name": "ipython",
    "version": 3
   },
   "file_extension": ".py",
   "mimetype": "text/x-python",
   "name": "python",
   "nbconvert_exporter": "python",
   "pygments_lexer": "ipython3",
   "version": "3.10.8"
  }
 },
 "nbformat": 4,
 "nbformat_minor": 5
}
