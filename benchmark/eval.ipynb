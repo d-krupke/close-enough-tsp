{
 "cells": [
  {
   "cell_type": "code",
   "execution_count": 10,
   "metadata": {},
   "outputs": [],
   "source": [
    "from algbench import describe, read_as_pandas"
   ]
  },
  {
   "cell_type": "code",
   "execution_count": 11,
   "metadata": {},
   "outputs": [
    {
     "name": "stdout",
     "output_type": "stream",
     "text": [
      " result:\n",
      "| ub: 198.2236193568645\n",
      "| lb: 198.2236193568645\n",
      "| stats:\n",
      "|| num_explored: 3\n",
      "|| num_branches: 2\n",
      "|| num_iterations: 3\n",
      "| n: 10\n",
      " timestamp: 2023-05-26T12:56:54.737007\n",
      " runtime: 0.02353835105895996\n",
      " stdout: \n",
      " stderr: \n",
      " env_fingerprint: f396683aa353aadf34b54456379b626245773c80\n",
      " args_fingerprint: 554f117b400714c08f8004d613e4a8f7915a7de7\n",
      " parameters:\n",
      "| func: measure\n",
      "| args:\n",
      "|| instance_name: rnd_ol01/CETSP-10-0\n",
      "|| configuration:\n",
      "||| root: ConvexHull\n",
      "||| branching: ChFarthestCircleSimplifying\n",
      "||| search: DfsBfs\n",
      "||| rules: []\n",
      "||| num_threads: 8\n",
      "|| timelimit: 120\n",
      " argv: ['run.py']\n",
      " env:\n",
      "| hostname: workstation-r7\n",
      "| python_version: 3.10.9 (main, Jan 11 2023, 15:21:40) [GCC 11.2.0]\n",
      "| python: /home/krupke/anaconda3/envs/mo310/bin/python3\n",
      "| cwd: /home/krupke/Repositories/close-enough-tsp/benchmark\n",
      "| environment: [{'name': 'virtualenv', 'path': '/home/krupke/.local/lib/python3.10/site-pack...\n",
      "| git_revision: a1542c406f5801c593f267aae8f7fee60bfde9e8\n",
      "| python_file: /home/krupke/Repositories/close-enough-tsp/benchmark/run.py\n"
     ]
    }
   ],
   "source": [
    "describe(\"./results\")"
   ]
  },
  {
   "cell_type": "code",
   "execution_count": 12,
   "metadata": {},
   "outputs": [
    {
     "data": {
      "text/html": [
       "<div>\n",
       "<style scoped>\n",
       "    .dataframe tbody tr th:only-of-type {\n",
       "        vertical-align: middle;\n",
       "    }\n",
       "\n",
       "    .dataframe tbody tr th {\n",
       "        vertical-align: top;\n",
       "    }\n",
       "\n",
       "    .dataframe thead th {\n",
       "        text-align: right;\n",
       "    }\n",
       "</style>\n",
       "<table border=\"1\" class=\"dataframe\">\n",
       "  <thead>\n",
       "    <tr style=\"text-align: right;\">\n",
       "      <th></th>\n",
       "      <th>runtime</th>\n",
       "      <th>gap</th>\n",
       "    </tr>\n",
       "    <tr>\n",
       "      <th>alg</th>\n",
       "      <th></th>\n",
       "      <th></th>\n",
       "    </tr>\n",
       "  </thead>\n",
       "  <tbody>\n",
       "    <tr>\n",
       "      <th>{'root': 'ConvexHull', 'branching': 'ChFarthestCircle', 'search': 'DfsBfs', 'rules': [], 'num_threads': 8}</th>\n",
       "      <td>2.796519</td>\n",
       "      <td>0.544585</td>\n",
       "    </tr>\n",
       "    <tr>\n",
       "      <th>{'root': 'ConvexHull', 'branching': 'ChFarthestCircleSimplifying', 'search': 'CheapestBreadthFirst', 'rules': [], 'num_threads': 8}</th>\n",
       "      <td>4.024071</td>\n",
       "      <td>0.210296</td>\n",
       "    </tr>\n",
       "    <tr>\n",
       "      <th>{'root': 'ConvexHull', 'branching': 'ChFarthestCircleSimplifying', 'search': 'CheapestChildDepthFirst', 'rules': [], 'num_threads': 8}</th>\n",
       "      <td>2.514620</td>\n",
       "      <td>0.516697</td>\n",
       "    </tr>\n",
       "    <tr>\n",
       "      <th>{'root': 'ConvexHull', 'branching': 'ChFarthestCircleSimplifying', 'search': 'DfsBfs', 'rules': [], 'num_threads': 8}</th>\n",
       "      <td>1.495306</td>\n",
       "      <td>0.515627</td>\n",
       "    </tr>\n",
       "    <tr>\n",
       "      <th>{'root': 'LongestEdgePlusFurthestCircle', 'branching': 'FarthestCircle', 'search': 'CheapestBreadthFirst', 'rules': [], 'num_threads': 8}</th>\n",
       "      <td>16.479644</td>\n",
       "      <td>2.069796</td>\n",
       "    </tr>\n",
       "    <tr>\n",
       "      <th>{'root': 'Random', 'branching': 'Random', 'search': 'Random', 'rules': [], 'num_threads': 8}</th>\n",
       "      <td>27.840473</td>\n",
       "      <td>11.080740</td>\n",
       "    </tr>\n",
       "  </tbody>\n",
       "</table>\n",
       "</div>"
      ],
      "text/plain": [
       "                                                      runtime        gap\n",
       "alg                                                                     \n",
       "{'root': 'ConvexHull', 'branching': 'ChFarthest...   2.796519   0.544585\n",
       "{'root': 'ConvexHull', 'branching': 'ChFarthest...   4.024071   0.210296\n",
       "{'root': 'ConvexHull', 'branching': 'ChFarthest...   2.514620   0.516697\n",
       "{'root': 'ConvexHull', 'branching': 'ChFarthest...   1.495306   0.515627\n",
       "{'root': 'LongestEdgePlusFurthestCircle', 'bran...  16.479644   2.069796\n",
       "{'root': 'Random', 'branching': 'Random', 'sear...  27.840473  11.080740"
      ]
     },
     "execution_count": 12,
     "metadata": {},
     "output_type": "execute_result"
    }
   ],
   "source": [
    "result = read_as_pandas(\"./results/\", lambda data: {\"instance\": data[\"parameters\"][\"args\"][\"instance_name\"],\n",
    "                                                    \"alg\": str(data[\"parameters\"][\"args\"][\"configuration\"]),\n",
    "                                                    \"conf\": data[\"parameters\"][\"args\"][\"configuration\"],\n",
    "                                                    \"lb\": data[\"result\"][\"lb\"],\n",
    "                                                    \"ub\": data[\"result\"][\"ub\"],\n",
    "                                                    \"runtime\": data[\"runtime\"],\n",
    "                                                    \"iterations\": data[\"result\"][\"stats\"][\"num_iterations\"]})\n",
    "result[\"gap\"] = (1-result[\"lb\"]/result[\"ub\"])*100\n",
    "result.groupby(\"alg\")[[\"runtime\", \"gap\"]].mean()"
   ]
  }
 ],
 "metadata": {
  "kernelspec": {
   "display_name": "mo310",
   "language": "python",
   "name": "python3"
  },
  "language_info": {
   "codemirror_mode": {
    "name": "ipython",
    "version": 3
   },
   "file_extension": ".py",
   "mimetype": "text/x-python",
   "name": "python",
   "nbconvert_exporter": "python",
   "pygments_lexer": "ipython3",
   "version": "3.10.9"
  },
  "orig_nbformat": 4
 },
 "nbformat": 4,
 "nbformat_minor": 2
}
