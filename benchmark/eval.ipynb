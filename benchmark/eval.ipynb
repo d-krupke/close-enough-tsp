{
 "cells": [
  {
   "cell_type": "code",
   "execution_count": 2,
   "metadata": {},
   "outputs": [],
   "source": [
    "from algbench import describe, read_as_pandas"
   ]
  },
  {
   "cell_type": "code",
   "execution_count": 3,
   "metadata": {},
   "outputs": [
    {
     "name": "stdout",
     "output_type": "stream",
     "text": [
      "An entry in the database can look like this:\n",
      "_____________________________________________\n",
      " result:\n",
      "| ub: 473.3792386060225\n",
      "| lb: 441.44809426510574\n",
      "| stats:\n",
      "|| num_explored: 13954\n",
      "|| num_branches: 13951\n",
      "|| num_iterations: 15954\n",
      "| n: 126\n",
      " timestamp: 2023-05-26T15:23:10.806535\n",
      " runtime: 120.2784583568573\n",
      " stdout: \n",
      " stderr: \n",
      " env_fingerprint: dff294d2e80a73937f84e9442a654782dd0bc7f4\n",
      " args_fingerprint: 665eafaacacc672b1ea4702fcccdb745b1ed97b3\n",
      " parameters:\n",
      "| func: measure\n",
      "| args:\n",
      "|| instance_name: rnd_ol01/CETSP-200-0\n",
      "|| configuration:\n",
      "||| root: ConvexHull\n",
      "||| branching: ChFarthestCircleSimplifying\n",
      "||| search: DfsBfs\n",
      "||| rules: []\n",
      "||| num_threads: 8\n",
      "|| timelimit: 120\n",
      " argv: ['/ibr/home/krupke/anaconda3/envs/mo310/lib/python3.10/site-packages/slurmina...\n",
      " env:\n",
      "| hostname: algry01\n",
      "| python_version: 3.10.8 (main, Nov 24 2022, 14:13:03) [GCC 11.2.0]\n",
      "| python: /ibr/home/krupke/anaconda3/envs/mo310/bin/python3\n",
      "| cwd: /misc/ibr/home/krupke/close-enough-tsp/benchmark\n",
      "| environment: [{'name': 'tzdata', 'path': '/misc/ibr/home/krupke/anaconda3/envs/mo310/lib/p...\n",
      "| git_revision: e8c23b053305009a0d2fa27be9c71596f2635c7c\n",
      "| python_file: /ibr/home/krupke/anaconda3/envs/mo310/lib/python3.10/site-packages/slurminade...\n",
      "______________________________________________\n",
      "Note that this is only based on the first entry, other entries could differ.\n"
     ]
    }
   ],
   "source": [
    "describe(\"./results\")"
   ]
  },
  {
   "cell_type": "code",
   "execution_count": 69,
   "metadata": {},
   "outputs": [
    {
     "data": {
      "text/html": [
       "<div>\n",
       "<style scoped>\n",
       "    .dataframe tbody tr th:only-of-type {\n",
       "        vertical-align: middle;\n",
       "    }\n",
       "\n",
       "    .dataframe tbody tr th {\n",
       "        vertical-align: top;\n",
       "    }\n",
       "\n",
       "    .dataframe thead th {\n",
       "        text-align: right;\n",
       "    }\n",
       "</style>\n",
       "<table border=\"1\" class=\"dataframe\">\n",
       "  <thead>\n",
       "    <tr style=\"text-align: right;\">\n",
       "      <th></th>\n",
       "      <th>runtime</th>\n",
       "      <th>gap</th>\n",
       "      <th>gap_above_tol</th>\n",
       "      <th>iterations</th>\n",
       "    </tr>\n",
       "    <tr>\n",
       "      <th>alg</th>\n",
       "      <th></th>\n",
       "      <th></th>\n",
       "      <th></th>\n",
       "      <th></th>\n",
       "    </tr>\n",
       "  </thead>\n",
       "  <tbody>\n",
       "    <tr>\n",
       "      <th>{'root': 'ConvexHull', 'branching': 'ChFarthestCircle', 'search': 'DfsBfs', 'rules': [], 'num_threads': 8}</th>\n",
       "      <td>120.219121</td>\n",
       "      <td>3.468589</td>\n",
       "      <td>2.468589</td>\n",
       "      <td>14265.2</td>\n",
       "    </tr>\n",
       "    <tr>\n",
       "      <th>{'root': 'ConvexHull', 'branching': 'ChFarthestCircleSimplifying', 'search': 'CheapestBreadthFirst', 'rules': [], 'num_threads': 8}</th>\n",
       "      <td>120.085117</td>\n",
       "      <td>20.940972</td>\n",
       "      <td>19.940972</td>\n",
       "      <td>5959.4</td>\n",
       "    </tr>\n",
       "    <tr>\n",
       "      <th>{'root': 'ConvexHull', 'branching': 'ChFarthestCircleSimplifying', 'search': 'CheapestChildDepthFirst', 'rules': [], 'num_threads': 8}</th>\n",
       "      <td>120.176760</td>\n",
       "      <td>23.702639</td>\n",
       "      <td>22.702639</td>\n",
       "      <td>290477.6</td>\n",
       "    </tr>\n",
       "    <tr>\n",
       "      <th>{'root': 'ConvexHull', 'branching': 'ChFarthestCircleSimplifying', 'search': 'DfsBfs', 'rules': [], 'num_threads': 8}</th>\n",
       "      <td>120.244555</td>\n",
       "      <td>3.179265</td>\n",
       "      <td>2.179265</td>\n",
       "      <td>18301.0</td>\n",
       "    </tr>\n",
       "    <tr>\n",
       "      <th>{'root': 'LongestEdgePlusFurthestCircle', 'branching': 'ChFarthestCircleSimplifying', 'search': 'CheapestBreadthFirst', 'rules': [], 'num_threads': 8}</th>\n",
       "      <td>120.080071</td>\n",
       "      <td>21.708667</td>\n",
       "      <td>20.708667</td>\n",
       "      <td>7405.0</td>\n",
       "    </tr>\n",
       "    <tr>\n",
       "      <th>{'root': 'LongestEdgePlusFurthestCircle', 'branching': 'FarthestCircle', 'search': 'CheapestBreadthFirst', 'rules': [], 'num_threads': 8}</th>\n",
       "      <td>120.096687</td>\n",
       "      <td>20.154550</td>\n",
       "      <td>19.154550</td>\n",
       "      <td>7179.4</td>\n",
       "    </tr>\n",
       "    <tr>\n",
       "      <th>{'root': 'Random', 'branching': 'Random', 'search': 'Random', 'rules': [], 'num_threads': 8}</th>\n",
       "      <td>120.318086</td>\n",
       "      <td>62.302829</td>\n",
       "      <td>61.302829</td>\n",
       "      <td>67255.4</td>\n",
       "    </tr>\n",
       "  </tbody>\n",
       "</table>\n",
       "</div>"
      ],
      "text/plain": [
       "                                                                                                                                                           runtime        gap  gap_above_tol  iterations\n",
       "alg                                                                                                                                                                                                     \n",
       "{'root': 'ConvexHull', 'branching': 'ChFarthestCircle', 'search': 'DfsBfs', 'rules': [], 'num_threads': 8}                                              120.219121   3.468589       2.468589     14265.2\n",
       "{'root': 'ConvexHull', 'branching': 'ChFarthestCircleSimplifying', 'search': 'CheapestBreadthFirst', 'rules': [], 'num_threads': 8}                     120.085117  20.940972      19.940972      5959.4\n",
       "{'root': 'ConvexHull', 'branching': 'ChFarthestCircleSimplifying', 'search': 'CheapestChildDepthFirst', 'rules': [], 'num_threads': 8}                  120.176760  23.702639      22.702639    290477.6\n",
       "{'root': 'ConvexHull', 'branching': 'ChFarthestCircleSimplifying', 'search': 'DfsBfs', 'rules': [], 'num_threads': 8}                                   120.244555   3.179265       2.179265     18301.0\n",
       "{'root': 'LongestEdgePlusFurthestCircle', 'branching': 'ChFarthestCircleSimplifying', 'search': 'CheapestBreadthFirst', 'rules': [], 'num_threads': 8}  120.080071  21.708667      20.708667      7405.0\n",
       "{'root': 'LongestEdgePlusFurthestCircle', 'branching': 'FarthestCircle', 'search': 'CheapestBreadthFirst', 'rules': [], 'num_threads': 8}               120.096687  20.154550      19.154550      7179.4\n",
       "{'root': 'Random', 'branching': 'Random', 'search': 'Random', 'rules': [], 'num_threads': 8}                                                            120.318086  62.302829      61.302829     67255.4"
      ]
     },
     "execution_count": 69,
     "metadata": {},
     "output_type": "execute_result"
    }
   ],
   "source": [
    "result = read_as_pandas(\"./results/\", lambda data: {\"instance\": data[\"parameters\"][\"args\"][\"instance_name\"],\n",
    "                                                    \"alg\": str(data[\"parameters\"][\"args\"][\"configuration\"]),\n",
    "                                                    \"conf\": data[\"parameters\"][\"args\"][\"configuration\"],\n",
    "                                                    \"lb\": data[\"result\"][\"lb\"],\n",
    "                                                    \"ub\": data[\"result\"][\"ub\"],\n",
    "                                                    \"runtime\": data[\"runtime\"],\n",
    "                                                    \"iterations\": float(data[\"result\"][\"stats\"][\"num_iterations\"]),\n",
    "                                                    \"n\": data[\"result\"][\"n\"]})\n",
    "result[\"gap\"] = (1-result[\"lb\"]/result[\"ub\"])*100\n",
    "result[\"gap_above_tol\"] = result[\"gap\"].apply((lambda x: max(0, x-1.0)))\n",
    "result.drop_duplicates(subset=[\"alg\", \"instance\"], inplace=True)\n",
    "result = result[result[\"n\"]>=80]\n",
    "result.groupby(\"alg\")[[\"runtime\", \"gap\", \"gap_above_tol\", \"iterations\"]].mean()"
   ]
  },
  {
   "cell_type": "code",
   "execution_count": 70,
   "metadata": {},
   "outputs": [
    {
     "data": {
      "text/plain": [
       "5"
      ]
     },
     "execution_count": 70,
     "metadata": {},
     "output_type": "execute_result"
    }
   ],
   "source": [
    "result[\"instance\"].nunique()"
   ]
  },
  {
   "cell_type": "code",
   "execution_count": 65,
   "metadata": {},
   "outputs": [
    {
     "data": {
      "text/html": [
       "<div>\n",
       "<style scoped>\n",
       "    .dataframe tbody tr th:only-of-type {\n",
       "        vertical-align: middle;\n",
       "    }\n",
       "\n",
       "    .dataframe tbody tr th {\n",
       "        vertical-align: top;\n",
       "    }\n",
       "\n",
       "    .dataframe thead th {\n",
       "        text-align: right;\n",
       "    }\n",
       "</style>\n",
       "<table border=\"1\" class=\"dataframe\">\n",
       "  <thead>\n",
       "    <tr style=\"text-align: right;\">\n",
       "      <th></th>\n",
       "      <th>instance</th>\n",
       "    </tr>\n",
       "    <tr>\n",
       "      <th>alg</th>\n",
       "      <th></th>\n",
       "    </tr>\n",
       "  </thead>\n",
       "  <tbody>\n",
       "  </tbody>\n",
       "</table>\n",
       "</div>"
      ],
      "text/plain": [
       "Empty DataFrame\n",
       "Columns: [instance]\n",
       "Index: []"
      ]
     },
     "execution_count": 65,
     "metadata": {},
     "output_type": "execute_result"
    }
   ],
   "source": [
    "result[result[\"ub\"]<=1.02*result[\"lb\"]].groupby([\"alg\"])[[\"instance\"]].nunique()"
   ]
  },
  {
   "cell_type": "code",
   "execution_count": 6,
   "metadata": {},
   "outputs": [
    {
     "data": {
      "text/plain": [
       "True"
      ]
     },
     "execution_count": 6,
     "metadata": {},
     "output_type": "execute_result"
    }
   ],
   "source": [
    "import pandas as pd\n",
    "t = pd.merge(result.groupby([\"instance\"])[[\"lb\"]].max(), result.groupby([\"instance\"])[[\"ub\"]].min(), on=\"instance\")\n",
    "(t[\"lb\"]<=t[\"ub\"]+0.001).all()"
   ]
  },
  {
   "cell_type": "code",
   "execution_count": 7,
   "metadata": {},
   "outputs": [
    {
     "data": {
      "text/plain": [
       "['rnd_ol01/CETSP-30-0',\n",
       " 'rnd_ol01/CETSP-30-2',\n",
       " 'rnd_ol01/CETSP-30-4',\n",
       " 'rnd_ol01/CETSP-40-2',\n",
       " 'rnd_ol01/CETSP-40-4']"
      ]
     },
     "execution_count": 7,
     "metadata": {},
     "output_type": "execute_result"
    }
   ],
   "source": [
    "t = pd.merge(result.groupby([\"instance\"])[[\"lb\"]].min(), result.groupby([\"instance\"])[[\"ub\"]].max(), on=\"instance\")\n",
    "t[t[\"ub\"]<=t[\"lb\"]*1.05].index.unique().to_list()\n",
    "#t"
   ]
  },
  {
   "cell_type": "code",
   "execution_count": 47,
   "metadata": {},
   "outputs": [
    {
     "data": {
      "text/html": [
       "<div>\n",
       "<style scoped>\n",
       "    .dataframe tbody tr th:only-of-type {\n",
       "        vertical-align: middle;\n",
       "    }\n",
       "\n",
       "    .dataframe tbody tr th {\n",
       "        vertical-align: top;\n",
       "    }\n",
       "\n",
       "    .dataframe thead th {\n",
       "        text-align: right;\n",
       "    }\n",
       "</style>\n",
       "<table border=\"1\" class=\"dataframe\">\n",
       "  <thead>\n",
       "    <tr style=\"text-align: right;\">\n",
       "      <th></th>\n",
       "      <th>instance</th>\n",
       "      <th>alg</th>\n",
       "      <th>lb</th>\n",
       "      <th>ub</th>\n",
       "      <th>runtime</th>\n",
       "      <th>iterations</th>\n",
       "      <th>gap</th>\n",
       "      <th>gap_above_tol</th>\n",
       "    </tr>\n",
       "  </thead>\n",
       "  <tbody>\n",
       "    <tr>\n",
       "      <th>15</th>\n",
       "      <td>rnd_ol01/CETSP-200-2</td>\n",
       "      <td>{'root': 'ConvexHull', 'branching': 'ChFarthestCircle', 'search': 'DfsBfs', 'rules': [], 'num_threads': 8}</td>\n",
       "      <td>423.751357</td>\n",
       "      <td>434.447965</td>\n",
       "      <td>120.210610</td>\n",
       "      <td>13524.0</td>\n",
       "      <td>2.462115</td>\n",
       "      <td>1.462115</td>\n",
       "    </tr>\n",
       "    <tr>\n",
       "      <th>19</th>\n",
       "      <td>rnd_ol01/CETSP-200-2</td>\n",
       "      <td>{'root': 'ConvexHull', 'branching': 'ChFarthestCircleSimplifying', 'search': 'CheapestBreadthFirst', 'rules': [], 'num_threads': 8}</td>\n",
       "      <td>423.407150</td>\n",
       "      <td>522.454406</td>\n",
       "      <td>120.089697</td>\n",
       "      <td>6066.0</td>\n",
       "      <td>18.958067</td>\n",
       "      <td>17.958067</td>\n",
       "    </tr>\n",
       "    <tr>\n",
       "      <th>18</th>\n",
       "      <td>rnd_ol01/CETSP-200-2</td>\n",
       "      <td>{'root': 'ConvexHull', 'branching': 'ChFarthestCircleSimplifying', 'search': 'CheapestChildDepthFirst', 'rules': [], 'num_threads': 8}</td>\n",
       "      <td>347.306387</td>\n",
       "      <td>435.458376</td>\n",
       "      <td>120.182193</td>\n",
       "      <td>302382.0</td>\n",
       "      <td>20.243494</td>\n",
       "      <td>19.243494</td>\n",
       "    </tr>\n",
       "    <tr>\n",
       "      <th>14</th>\n",
       "      <td>rnd_ol01/CETSP-200-2</td>\n",
       "      <td>{'root': 'ConvexHull', 'branching': 'ChFarthestCircleSimplifying', 'search': 'DfsBfs', 'rules': [], 'num_threads': 8}</td>\n",
       "      <td>424.812119</td>\n",
       "      <td>434.448005</td>\n",
       "      <td>120.239580</td>\n",
       "      <td>17918.0</td>\n",
       "      <td>2.217961</td>\n",
       "      <td>1.217961</td>\n",
       "    </tr>\n",
       "    <tr>\n",
       "      <th>16</th>\n",
       "      <td>rnd_ol01/CETSP-200-2</td>\n",
       "      <td>{'root': 'LongestEdgePlusFurthestCircle', 'branching': 'ChFarthestCircleSimplifying', 'search': 'CheapestBreadthFirst', 'rules': [], 'num_threads': 8}</td>\n",
       "      <td>414.133060</td>\n",
       "      <td>543.995324</td>\n",
       "      <td>120.085940</td>\n",
       "      <td>7632.0</td>\n",
       "      <td>23.871945</td>\n",
       "      <td>22.871945</td>\n",
       "    </tr>\n",
       "    <tr>\n",
       "      <th>17</th>\n",
       "      <td>rnd_ol01/CETSP-200-2</td>\n",
       "      <td>{'root': 'LongestEdgePlusFurthestCircle', 'branching': 'FarthestCircle', 'search': 'CheapestBreadthFirst', 'rules': [], 'num_threads': 8}</td>\n",
       "      <td>413.483749</td>\n",
       "      <td>511.733905</td>\n",
       "      <td>120.103549</td>\n",
       "      <td>7296.0</td>\n",
       "      <td>19.199462</td>\n",
       "      <td>18.199462</td>\n",
       "    </tr>\n",
       "    <tr>\n",
       "      <th>20</th>\n",
       "      <td>rnd_ol01/CETSP-200-2</td>\n",
       "      <td>{'root': 'Random', 'branching': 'Random', 'search': 'Random', 'rules': [], 'num_threads': 8}</td>\n",
       "      <td>191.693957</td>\n",
       "      <td>557.393296</td>\n",
       "      <td>120.317755</td>\n",
       "      <td>57898.0</td>\n",
       "      <td>65.608851</td>\n",
       "      <td>64.608851</td>\n",
       "    </tr>\n",
       "  </tbody>\n",
       "</table>\n",
       "</div>"
      ],
      "text/plain": [
       "                instance                                                                                                                                                     alg          lb          ub     runtime  iterations        gap  gap_above_tol\n",
       "15  rnd_ol01/CETSP-200-2                                              {'root': 'ConvexHull', 'branching': 'ChFarthestCircle', 'search': 'DfsBfs', 'rules': [], 'num_threads': 8}  423.751357  434.447965  120.210610     13524.0   2.462115       1.462115\n",
       "19  rnd_ol01/CETSP-200-2                     {'root': 'ConvexHull', 'branching': 'ChFarthestCircleSimplifying', 'search': 'CheapestBreadthFirst', 'rules': [], 'num_threads': 8}  423.407150  522.454406  120.089697      6066.0  18.958067      17.958067\n",
       "18  rnd_ol01/CETSP-200-2                  {'root': 'ConvexHull', 'branching': 'ChFarthestCircleSimplifying', 'search': 'CheapestChildDepthFirst', 'rules': [], 'num_threads': 8}  347.306387  435.458376  120.182193    302382.0  20.243494      19.243494\n",
       "14  rnd_ol01/CETSP-200-2                                   {'root': 'ConvexHull', 'branching': 'ChFarthestCircleSimplifying', 'search': 'DfsBfs', 'rules': [], 'num_threads': 8}  424.812119  434.448005  120.239580     17918.0   2.217961       1.217961\n",
       "16  rnd_ol01/CETSP-200-2  {'root': 'LongestEdgePlusFurthestCircle', 'branching': 'ChFarthestCircleSimplifying', 'search': 'CheapestBreadthFirst', 'rules': [], 'num_threads': 8}  414.133060  543.995324  120.085940      7632.0  23.871945      22.871945\n",
       "17  rnd_ol01/CETSP-200-2               {'root': 'LongestEdgePlusFurthestCircle', 'branching': 'FarthestCircle', 'search': 'CheapestBreadthFirst', 'rules': [], 'num_threads': 8}  413.483749  511.733905  120.103549      7296.0  19.199462      18.199462\n",
       "20  rnd_ol01/CETSP-200-2                                                            {'root': 'Random', 'branching': 'Random', 'search': 'Random', 'rules': [], 'num_threads': 8}  191.693957  557.393296  120.317755     57898.0  65.608851      64.608851"
      ]
     },
     "execution_count": 47,
     "metadata": {},
     "output_type": "execute_result"
    }
   ],
   "source": [
    "import random\n",
    "pd.set_option('display.max_rows', 500)\n",
    "pd.set_option('display.max_columns', 500)\n",
    "pd.set_option('display.width', 1000)\n",
    "pd.set_option(\"display.max_colwidth\", 500)\n",
    "t = result[result[\"instance\"]==random.choice(result[\"instance\"].unique().tolist())].sort_values(by=[\"alg\"]).drop(columns=\"conf\")\n",
    "t"
   ]
  }
 ],
 "metadata": {
  "kernelspec": {
   "display_name": "mo310",
   "language": "python",
   "name": "python3"
  },
  "language_info": {
   "codemirror_mode": {
    "name": "ipython",
    "version": 3
   },
   "file_extension": ".py",
   "mimetype": "text/x-python",
   "name": "python",
   "nbconvert_exporter": "python",
   "pygments_lexer": "ipython3",
   "version": "3.10.9"
  },
  "orig_nbformat": 4
 },
 "nbformat": 4,
 "nbformat_minor": 2
}
