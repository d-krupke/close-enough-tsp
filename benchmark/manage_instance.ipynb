{
 "cells": [
  {
   "cell_type": "code",
   "execution_count": 1,
   "metadata": {},
   "outputs": [],
   "source": [
    "import pandas as pd"
   ]
  },
  {
   "cell_type": "code",
   "execution_count": 11,
   "metadata": {},
   "outputs": [
    {
     "data": {
      "text/html": [
       "<div>\n",
       "<style scoped>\n",
       "    .dataframe tbody tr th:only-of-type {\n",
       "        vertical-align: middle;\n",
       "    }\n",
       "\n",
       "    .dataframe tbody tr th {\n",
       "        vertical-align: top;\n",
       "    }\n",
       "\n",
       "    .dataframe thead th {\n",
       "        text-align: right;\n",
       "    }\n",
       "</style>\n",
       "<table border=\"1\" class=\"dataframe\">\n",
       "  <thead>\n",
       "    <tr style=\"text-align: right;\">\n",
       "      <th></th>\n",
       "      <th>circles</th>\n",
       "    </tr>\n",
       "  </thead>\n",
       "  <tbody>\n",
       "    <tr>\n",
       "      <th>bedhani/CETSP-06-00(radius=0.25)</th>\n",
       "      <td>[{'x': 0.0200201, 'y': 5.63585, 'radius': 0.25...</td>\n",
       "    </tr>\n",
       "    <tr>\n",
       "      <th>bedhani/CETSP-06-00(radius=0.5)</th>\n",
       "      <td>[{'x': 0.0200201, 'y': 5.63585, 'radius': 0.5}...</td>\n",
       "    </tr>\n",
       "    <tr>\n",
       "      <th>bedhani/CETSP-06-01(radius=0.25)</th>\n",
       "      <td>[{'x': 4.86392, 'y': 0.149846, 'radius': 0.25}...</td>\n",
       "    </tr>\n",
       "    <tr>\n",
       "      <th>bedhani/CETSP-06-01(radius=0.5)</th>\n",
       "      <td>[{'x': 4.86392, 'y': 0.149846, 'radius': 0.5},...</td>\n",
       "    </tr>\n",
       "    <tr>\n",
       "      <th>bedhani/CETSP-06-02(radius=0.25)</th>\n",
       "      <td>[{'x': 9.62822, 'y': 6.07166, 'radius': 0.25},...</td>\n",
       "    </tr>\n",
       "    <tr>\n",
       "      <th>...</th>\n",
       "      <td>...</td>\n",
       "    </tr>\n",
       "    <tr>\n",
       "      <th>rnd_ol01/CETSP-90-0</th>\n",
       "      <td>[{'x': 8.166938654500001, 'y': 90.2240487084, ...</td>\n",
       "    </tr>\n",
       "    <tr>\n",
       "      <th>rnd_ol01/CETSP-90-1</th>\n",
       "      <td>[{'x': 1.7548861307, 'y': 60.1967893275, 'radi...</td>\n",
       "    </tr>\n",
       "    <tr>\n",
       "      <th>rnd_ol01/CETSP-90-2</th>\n",
       "      <td>[{'x': 75.6241069474, 'y': 85.5359202147, 'rad...</td>\n",
       "    </tr>\n",
       "    <tr>\n",
       "      <th>rnd_ol01/CETSP-90-3</th>\n",
       "      <td>[{'x': 80.0762128177, 'y': 96.3433409224, 'rad...</td>\n",
       "    </tr>\n",
       "    <tr>\n",
       "      <th>rnd_ol01/CETSP-90-4</th>\n",
       "      <td>[{'x': 34.6567221341, 'y': 75.7270481201, 'rad...</td>\n",
       "    </tr>\n",
       "  </tbody>\n",
       "</table>\n",
       "<p>620 rows × 1 columns</p>\n",
       "</div>"
      ],
      "text/plain": [
       "                                                                            circles\n",
       "bedhani/CETSP-06-00(radius=0.25)  [{'x': 0.0200201, 'y': 5.63585, 'radius': 0.25...\n",
       "bedhani/CETSP-06-00(radius=0.5)   [{'x': 0.0200201, 'y': 5.63585, 'radius': 0.5}...\n",
       "bedhani/CETSP-06-01(radius=0.25)  [{'x': 4.86392, 'y': 0.149846, 'radius': 0.25}...\n",
       "bedhani/CETSP-06-01(radius=0.5)   [{'x': 4.86392, 'y': 0.149846, 'radius': 0.5},...\n",
       "bedhani/CETSP-06-02(radius=0.25)  [{'x': 9.62822, 'y': 6.07166, 'radius': 0.25},...\n",
       "...                                                                             ...\n",
       "rnd_ol01/CETSP-90-0               [{'x': 8.166938654500001, 'y': 90.2240487084, ...\n",
       "rnd_ol01/CETSP-90-1               [{'x': 1.7548861307, 'y': 60.1967893275, 'radi...\n",
       "rnd_ol01/CETSP-90-2               [{'x': 75.6241069474, 'y': 85.5359202147, 'rad...\n",
       "rnd_ol01/CETSP-90-3               [{'x': 80.0762128177, 'y': 96.3433409224, 'rad...\n",
       "rnd_ol01/CETSP-90-4               [{'x': 34.6567221341, 'y': 75.7270481201, 'rad...\n",
       "\n",
       "[620 rows x 1 columns]"
      ]
     },
     "execution_count": 11,
     "metadata": {},
     "output_type": "execute_result"
    }
   ],
   "source": [
    "instances = pd.read_json(\"./instances.json.zip\")\n",
    "instances"
   ]
  },
  {
   "cell_type": "code",
   "execution_count": 8,
   "metadata": {},
   "outputs": [],
   "source": []
  },
  {
   "cell_type": "code",
   "execution_count": 10,
   "metadata": {},
   "outputs": [],
   "source": []
  }
 ],
 "metadata": {
  "kernelspec": {
   "display_name": "mo310",
   "language": "python",
   "name": "python3"
  },
  "language_info": {
   "codemirror_mode": {
    "name": "ipython",
    "version": 3
   },
   "file_extension": ".py",
   "mimetype": "text/x-python",
   "name": "python",
   "nbconvert_exporter": "python",
   "pygments_lexer": "ipython3",
   "version": "3.10.9"
  },
  "orig_nbformat": 4
 },
 "nbformat": 4,
 "nbformat_minor": 2
}
